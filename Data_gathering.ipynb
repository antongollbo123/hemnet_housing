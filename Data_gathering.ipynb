{
 "cells": [
  {
   "cell_type": "code",
   "execution_count": 128,
   "metadata": {},
   "outputs": [],
   "source": [
    "from selenium import webdriver\n",
    "import time\n",
    "from bs4 import BeautifulSoup\n",
    "from selenium.webdriver.common.keys import Keys\n",
    "from selenium.webdriver.support.ui import WebDriverWait\n",
    "from selenium.webdriver.support import expected_conditions as EC\n",
    "from selenium.webdriver.common.by import By"
   ]
  },
  {
   "cell_type": "markdown",
   "metadata": {},
   "source": [
    "# Fastnade med att försöka extrahera adress, se kommentar #1."
   ]
  },
  {
   "cell_type": "code",
   "execution_count": 210,
   "metadata": {},
   "outputs": [
    {
     "name": "stderr",
     "output_type": "stream",
     "text": [
      "C:\\Users\\Anton\\Anaconda3\\lib\\site-packages\\ipykernel_launcher.py:8: DeprecationWarning: executable_path has been deprecated, please pass in a Service object\n",
      "  \n",
      "C:\\Users\\Anton\\Anaconda3\\lib\\site-packages\\ipykernel_launcher.py:8: DeprecationWarning: use options instead of chrome_options\n",
      "  \n",
      "C:\\Users\\Anton\\Anaconda3\\lib\\site-packages\\ipykernel_launcher.py:20: DeprecationWarning: find_elements_by_* commands are deprecated. Please use find_elements() instead\n",
      "C:\\Users\\Anton\\Anaconda3\\lib\\site-packages\\ipykernel_launcher.py:28: DeprecationWarning: find_element_by_* commands are deprecated. Please use find_element() instead\n"
     ]
    },
    {
     "ename": "InvalidSelectorException",
     "evalue": "Message: invalid selector: Unable to locate an element with the xpath expression //*[@class='hcl-heading hcl-heading--size1') because of the following error:\nSyntaxError: Failed to execute 'evaluate' on 'Document': The string '//*[@class='hcl-heading hcl-heading--size1')' is not a valid XPath expression.\n  (Session info: headless chrome=97.0.4692.71)\nStacktrace:\nBacktrace:\n\tOrdinal0 [0x00766903+2517251]\n\tOrdinal0 [0x006FF8E1+2095329]\n\tOrdinal0 [0x00602848+1058888]\n\tOrdinal0 [0x00604F44+1068868]\n\tOrdinal0 [0x00604E0E+1068558]\n\tOrdinal0 [0x00605070+1069168]\n\tOrdinal0 [0x0062D1C2+1233346]\n\tOrdinal0 [0x0062D63B+1234491]\n\tOrdinal0 [0x00657812+1406994]\n\tOrdinal0 [0x0064650A+1336586]\n\tOrdinal0 [0x00655BBF+1399743]\n\tOrdinal0 [0x0064639B+1336219]\n\tOrdinal0 [0x006227A7+1189799]\n\tOrdinal0 [0x00623609+1193481]\n\tGetHandleVerifier [0x008F5904+1577972]\n\tGetHandleVerifier [0x009A0B97+2279047]\n\tGetHandleVerifier [0x007F6D09+534521]\n\tGetHandleVerifier [0x007F5DB9+530601]\n\tOrdinal0 [0x00704FF9+2117625]\n\tOrdinal0 [0x007098A8+2136232]\n\tOrdinal0 [0x007099E2+2136546]\n\tOrdinal0 [0x00713541+2176321]\n\tBaseThreadInitThunk [0x7739FA29+25]\n\tRtlGetAppContainerNamedObjectPath [0x77877A9E+286]\n\tRtlGetAppContainerNamedObjectPath [0x77877A6E+238]\n",
     "output_type": "error",
     "traceback": [
      "\u001b[1;31m---------------------------------------------------------------------------\u001b[0m",
      "\u001b[1;31mInvalidSelectorException\u001b[0m                  Traceback (most recent call last)",
      "\u001b[1;32m<ipython-input-210-71980695aace>\u001b[0m in \u001b[0;36m<module>\u001b[1;34m\u001b[0m\n\u001b[0;32m     26\u001b[0m     \u001b[0mdriver\u001b[0m\u001b[1;33m.\u001b[0m\u001b[0mswitch_to\u001b[0m\u001b[1;33m.\u001b[0m\u001b[0mwindow\u001b[0m\u001b[1;33m(\u001b[0m\u001b[0mdriver\u001b[0m\u001b[1;33m.\u001b[0m\u001b[0mwindow_handles\u001b[0m\u001b[1;33m[\u001b[0m\u001b[1;33m-\u001b[0m\u001b[1;36m1\u001b[0m\u001b[1;33m]\u001b[0m\u001b[1;33m)\u001b[0m\u001b[1;33m\u001b[0m\u001b[1;33m\u001b[0m\u001b[0m\n\u001b[0;32m     27\u001b[0m     \u001b[0mtime\u001b[0m\u001b[1;33m.\u001b[0m\u001b[0msleep\u001b[0m\u001b[1;33m(\u001b[0m\u001b[1;36m2\u001b[0m\u001b[1;33m)\u001b[0m\u001b[1;33m\u001b[0m\u001b[1;33m\u001b[0m\u001b[0m\n\u001b[1;32m---> 28\u001b[1;33m     \u001b[0madress\u001b[0m \u001b[1;33m=\u001b[0m \u001b[0mdriver\u001b[0m\u001b[1;33m.\u001b[0m\u001b[0mfind_element_by_xpath\u001b[0m\u001b[1;33m(\u001b[0m\u001b[1;34m\"//*[@class='hcl-heading hcl-heading--size1')\"\u001b[0m\u001b[1;33m)\u001b[0m\u001b[1;33m\u001b[0m\u001b[1;33m\u001b[0m\u001b[0m\n\u001b[0m\u001b[0;32m     29\u001b[0m     \u001b[0mprint\u001b[0m\u001b[1;33m(\u001b[0m\u001b[0madress\u001b[0m\u001b[1;33m.\u001b[0m\u001b[0mtext\u001b[0m\u001b[1;33m)\u001b[0m\u001b[1;33m\u001b[0m\u001b[1;33m\u001b[0m\u001b[0m\n\u001b[0;32m     30\u001b[0m \u001b[1;33m\u001b[0m\u001b[0m\n",
      "\u001b[1;32m~\\Anaconda3\\lib\\site-packages\\selenium\\webdriver\\remote\\webdriver.py\u001b[0m in \u001b[0;36mfind_element_by_xpath\u001b[1;34m(self, xpath)\u001b[0m\n\u001b[0;32m    518\u001b[0m             \u001b[0mstacklevel\u001b[0m\u001b[1;33m=\u001b[0m\u001b[1;36m2\u001b[0m\u001b[1;33m,\u001b[0m\u001b[1;33m\u001b[0m\u001b[1;33m\u001b[0m\u001b[0m\n\u001b[0;32m    519\u001b[0m         )\n\u001b[1;32m--> 520\u001b[1;33m         \u001b[1;32mreturn\u001b[0m \u001b[0mself\u001b[0m\u001b[1;33m.\u001b[0m\u001b[0mfind_element\u001b[0m\u001b[1;33m(\u001b[0m\u001b[0mby\u001b[0m\u001b[1;33m=\u001b[0m\u001b[0mBy\u001b[0m\u001b[1;33m.\u001b[0m\u001b[0mXPATH\u001b[0m\u001b[1;33m,\u001b[0m \u001b[0mvalue\u001b[0m\u001b[1;33m=\u001b[0m\u001b[0mxpath\u001b[0m\u001b[1;33m)\u001b[0m\u001b[1;33m\u001b[0m\u001b[1;33m\u001b[0m\u001b[0m\n\u001b[0m\u001b[0;32m    521\u001b[0m \u001b[1;33m\u001b[0m\u001b[0m\n\u001b[0;32m    522\u001b[0m     \u001b[1;32mdef\u001b[0m \u001b[0mfind_elements_by_xpath\u001b[0m\u001b[1;33m(\u001b[0m\u001b[0mself\u001b[0m\u001b[1;33m,\u001b[0m \u001b[0mxpath\u001b[0m\u001b[1;33m)\u001b[0m \u001b[1;33m->\u001b[0m \u001b[0mWebElement\u001b[0m\u001b[1;33m:\u001b[0m\u001b[1;33m\u001b[0m\u001b[1;33m\u001b[0m\u001b[0m\n",
      "\u001b[1;32m~\\Anaconda3\\lib\\site-packages\\selenium\\webdriver\\remote\\webdriver.py\u001b[0m in \u001b[0;36mfind_element\u001b[1;34m(self, by, value)\u001b[0m\n\u001b[0;32m   1244\u001b[0m         return self.execute(Command.FIND_ELEMENT, {\n\u001b[0;32m   1245\u001b[0m             \u001b[1;34m'using'\u001b[0m\u001b[1;33m:\u001b[0m \u001b[0mby\u001b[0m\u001b[1;33m,\u001b[0m\u001b[1;33m\u001b[0m\u001b[1;33m\u001b[0m\u001b[0m\n\u001b[1;32m-> 1246\u001b[1;33m             'value': value})['value']\n\u001b[0m\u001b[0;32m   1247\u001b[0m \u001b[1;33m\u001b[0m\u001b[0m\n\u001b[0;32m   1248\u001b[0m     \u001b[1;32mdef\u001b[0m \u001b[0mfind_elements\u001b[0m\u001b[1;33m(\u001b[0m\u001b[0mself\u001b[0m\u001b[1;33m,\u001b[0m \u001b[0mby\u001b[0m\u001b[1;33m=\u001b[0m\u001b[0mBy\u001b[0m\u001b[1;33m.\u001b[0m\u001b[0mID\u001b[0m\u001b[1;33m,\u001b[0m \u001b[0mvalue\u001b[0m\u001b[1;33m=\u001b[0m\u001b[1;32mNone\u001b[0m\u001b[1;33m)\u001b[0m \u001b[1;33m->\u001b[0m \u001b[0mList\u001b[0m\u001b[1;33m[\u001b[0m\u001b[0mWebElement\u001b[0m\u001b[1;33m]\u001b[0m\u001b[1;33m:\u001b[0m\u001b[1;33m\u001b[0m\u001b[1;33m\u001b[0m\u001b[0m\n",
      "\u001b[1;32m~\\Anaconda3\\lib\\site-packages\\selenium\\webdriver\\remote\\webdriver.py\u001b[0m in \u001b[0;36mexecute\u001b[1;34m(self, driver_command, params)\u001b[0m\n\u001b[0;32m    422\u001b[0m         \u001b[0mresponse\u001b[0m \u001b[1;33m=\u001b[0m \u001b[0mself\u001b[0m\u001b[1;33m.\u001b[0m\u001b[0mcommand_executor\u001b[0m\u001b[1;33m.\u001b[0m\u001b[0mexecute\u001b[0m\u001b[1;33m(\u001b[0m\u001b[0mdriver_command\u001b[0m\u001b[1;33m,\u001b[0m \u001b[0mparams\u001b[0m\u001b[1;33m)\u001b[0m\u001b[1;33m\u001b[0m\u001b[1;33m\u001b[0m\u001b[0m\n\u001b[0;32m    423\u001b[0m         \u001b[1;32mif\u001b[0m \u001b[0mresponse\u001b[0m\u001b[1;33m:\u001b[0m\u001b[1;33m\u001b[0m\u001b[1;33m\u001b[0m\u001b[0m\n\u001b[1;32m--> 424\u001b[1;33m             \u001b[0mself\u001b[0m\u001b[1;33m.\u001b[0m\u001b[0merror_handler\u001b[0m\u001b[1;33m.\u001b[0m\u001b[0mcheck_response\u001b[0m\u001b[1;33m(\u001b[0m\u001b[0mresponse\u001b[0m\u001b[1;33m)\u001b[0m\u001b[1;33m\u001b[0m\u001b[1;33m\u001b[0m\u001b[0m\n\u001b[0m\u001b[0;32m    425\u001b[0m             response['value'] = self._unwrap_value(\n\u001b[0;32m    426\u001b[0m                 response.get('value', None))\n",
      "\u001b[1;32m~\\Anaconda3\\lib\\site-packages\\selenium\\webdriver\\remote\\errorhandler.py\u001b[0m in \u001b[0;36mcheck_response\u001b[1;34m(self, response)\u001b[0m\n\u001b[0;32m    245\u001b[0m                 \u001b[0malert_text\u001b[0m \u001b[1;33m=\u001b[0m \u001b[0mvalue\u001b[0m\u001b[1;33m[\u001b[0m\u001b[1;34m'alert'\u001b[0m\u001b[1;33m]\u001b[0m\u001b[1;33m.\u001b[0m\u001b[0mget\u001b[0m\u001b[1;33m(\u001b[0m\u001b[1;34m'text'\u001b[0m\u001b[1;33m)\u001b[0m\u001b[1;33m\u001b[0m\u001b[1;33m\u001b[0m\u001b[0m\n\u001b[0;32m    246\u001b[0m             \u001b[1;32mraise\u001b[0m \u001b[0mexception_class\u001b[0m\u001b[1;33m(\u001b[0m\u001b[0mmessage\u001b[0m\u001b[1;33m,\u001b[0m \u001b[0mscreen\u001b[0m\u001b[1;33m,\u001b[0m \u001b[0mstacktrace\u001b[0m\u001b[1;33m,\u001b[0m \u001b[0malert_text\u001b[0m\u001b[1;33m)\u001b[0m  \u001b[1;31m# type: ignore[call-arg]  # mypy is not smart enough here\u001b[0m\u001b[1;33m\u001b[0m\u001b[1;33m\u001b[0m\u001b[0m\n\u001b[1;32m--> 247\u001b[1;33m         \u001b[1;32mraise\u001b[0m \u001b[0mexception_class\u001b[0m\u001b[1;33m(\u001b[0m\u001b[0mmessage\u001b[0m\u001b[1;33m,\u001b[0m \u001b[0mscreen\u001b[0m\u001b[1;33m,\u001b[0m \u001b[0mstacktrace\u001b[0m\u001b[1;33m)\u001b[0m\u001b[1;33m\u001b[0m\u001b[1;33m\u001b[0m\u001b[0m\n\u001b[0m\u001b[0;32m    248\u001b[0m \u001b[1;33m\u001b[0m\u001b[0m\n\u001b[0;32m    249\u001b[0m     \u001b[1;32mdef\u001b[0m \u001b[0m_value_or_default\u001b[0m\u001b[1;33m(\u001b[0m\u001b[0mself\u001b[0m\u001b[1;33m,\u001b[0m \u001b[0mobj\u001b[0m\u001b[1;33m:\u001b[0m \u001b[0mMapping\u001b[0m\u001b[1;33m[\u001b[0m\u001b[0m_KT\u001b[0m\u001b[1;33m,\u001b[0m \u001b[0m_VT\u001b[0m\u001b[1;33m]\u001b[0m\u001b[1;33m,\u001b[0m \u001b[0mkey\u001b[0m\u001b[1;33m:\u001b[0m \u001b[0m_KT\u001b[0m\u001b[1;33m,\u001b[0m \u001b[0mdefault\u001b[0m\u001b[1;33m:\u001b[0m \u001b[0m_VT\u001b[0m\u001b[1;33m)\u001b[0m \u001b[1;33m->\u001b[0m \u001b[0m_VT\u001b[0m\u001b[1;33m:\u001b[0m\u001b[1;33m\u001b[0m\u001b[1;33m\u001b[0m\u001b[0m\n",
      "\u001b[1;31mInvalidSelectorException\u001b[0m: Message: invalid selector: Unable to locate an element with the xpath expression //*[@class='hcl-heading hcl-heading--size1') because of the following error:\nSyntaxError: Failed to execute 'evaluate' on 'Document': The string '//*[@class='hcl-heading hcl-heading--size1')' is not a valid XPath expression.\n  (Session info: headless chrome=97.0.4692.71)\nStacktrace:\nBacktrace:\n\tOrdinal0 [0x00766903+2517251]\n\tOrdinal0 [0x006FF8E1+2095329]\n\tOrdinal0 [0x00602848+1058888]\n\tOrdinal0 [0x00604F44+1068868]\n\tOrdinal0 [0x00604E0E+1068558]\n\tOrdinal0 [0x00605070+1069168]\n\tOrdinal0 [0x0062D1C2+1233346]\n\tOrdinal0 [0x0062D63B+1234491]\n\tOrdinal0 [0x00657812+1406994]\n\tOrdinal0 [0x0064650A+1336586]\n\tOrdinal0 [0x00655BBF+1399743]\n\tOrdinal0 [0x0064639B+1336219]\n\tOrdinal0 [0x006227A7+1189799]\n\tOrdinal0 [0x00623609+1193481]\n\tGetHandleVerifier [0x008F5904+1577972]\n\tGetHandleVerifier [0x009A0B97+2279047]\n\tGetHandleVerifier [0x007F6D09+534521]\n\tGetHandleVerifier [0x007F5DB9+530601]\n\tOrdinal0 [0x00704FF9+2117625]\n\tOrdinal0 [0x007098A8+2136232]\n\tOrdinal0 [0x007099E2+2136546]\n\tOrdinal0 [0x00713541+2176321]\n\tBaseThreadInitThunk [0x7739FA29+25]\n\tRtlGetAppContainerNamedObjectPath [0x77877A9E+286]\n\tRtlGetAppContainerNamedObjectPath [0x77877A6E+238]\n"
     ]
    }
   ],
   "source": [
    "options = webdriver.ChromeOptions()\n",
    "options.add_argument('--ignore-certificate-errors')\n",
    "options.add_argument('--incognito')\n",
    "options.add_argument('--headless')\n",
    "\n",
    "vasastan_url = \"https://www.hemnet.se/salda/bostader?location_ids%5B%5D=925970\"\n",
    "\n",
    "driver = webdriver.Chrome(\"chromedriver.exe\", chrome_options=options)\n",
    "driver.get(vasastan_url)\n",
    "time.sleep(2)\n",
    "try:\n",
    "    WebDriverWait(driver, 10).until(EC.element_to_be_clickable((By.XPATH,'//*[@class=\"hcl-button hcl-button--primary\"]'))).click()\n",
    "\n",
    "except(org.openqa.selenium.StaleElementReferenceException):\n",
    "    WebDriverWait(driver, 10).until(EC.element_to_be_clickable((By.XPATH,'//*[@class=\"hcl-button hcl-button--primary\"]'))).click()\n",
    "\n",
    "\n",
    "\n",
    "time.sleep(2)\n",
    "elements = driver.find_elements_by_class_name(\"sold-property-link\")\n",
    "test_dict = {}\n",
    "\n",
    "for i in range(0,len(elements)):\n",
    "    elements[i].click()\n",
    "    time.sleep(2)\n",
    "    driver.switch_to.window(driver.window_handles[-1])\n",
    "    time.sleep(2)\n",
    "    #1. adress = driver.find_element_by_xpath(\"//*[@class='hcl-heading hcl-heading--size1')\")\n",
    "    #print(adress.text)\n",
    "    \n",
    "    price = driver.find_element_by_class_name(\"sold-property__price-value\")\n",
    "    price = price.text\n",
    "\n",
    "    \n",
    "    attributes = driver.find_element_by_class_name(\"sold-property__attributes\")\n",
    "    attributes_text = attributes.text\n",
    "    stats = driver.find_element_by_class_name(\"sold-property__price-stats\")\n",
    "    stats_text = stats.text\n",
    "    \n",
    "    attributes_stats_text = attributes_text+ \"\\n\" + stats_text\n",
    "    test_dict[i] = attribute_extractor(attributes_stats_text)\n",
    "    time.sleep(2)\n",
    "    driver.close();\n",
    "    time.sleep(2)\n",
    "    driver.switch_to.window(driver.window_handles[0]);\n",
    "    time.sleep(2)\n",
    "    \n",
    "    print(test_dict[i])\n",
    "\n"
   ]
  },
  {
   "cell_type": "code",
   "execution_count": 203,
   "metadata": {},
   "outputs": [],
   "source": [
    "def attribute_extractor(text):\n",
    "    \n",
    "    #text = text_element_list.text\n",
    "    word_list = []\n",
    "    while text.find(\"\\n\") != -1:\n",
    "        cut_off = text.find(\"\\n\")\n",
    "        word_list.append(text[0:cut_off])\n",
    "        text = text[cut_off+1:len(text)]   \n",
    "    word_list.append(text)\n",
    "\n",
    "    attribute_list = []\n",
    "    attribute_values = []\n",
    "\n",
    "\n",
    "    for i in range(0, len(word_list)):\n",
    "        if i % 2 == 0:\n",
    "            attribute_list.append(word_list[i])\n",
    "        else:\n",
    "            attribute_values.append(word_list[i])\n",
    "\n",
    "    res = dict(zip(attribute_list, attribute_values))\n",
    "    return res"
   ]
  },
  {
   "cell_type": "code",
   "execution_count": 178,
   "metadata": {},
   "outputs": [
    {
     "data": {
      "text/plain": [
       "{'Bostadstyp': 'Lägenhet',\n",
       " 'Upplåtelseform': 'Bostadsrätt',\n",
       " 'Antal rum': '2 rum',\n",
       " 'Boarea': '38 m²',\n",
       " 'Balkong': 'Nej',\n",
       " 'Våning': '1 av 5, hiss finns',\n",
       " 'Byggår': '1928',\n",
       " 'Avgift/månad': '2 147 kr/mån',\n",
       " 'Driftskostnad': '5 250 kr/år'}"
      ]
     },
     "execution_count": 178,
     "metadata": {},
     "output_type": "execute_result"
    }
   ],
   "source": [
    "yes = attribute_extractor(attributes)\n",
    "yes"
   ]
  }
 ],
 "metadata": {
  "kernelspec": {
   "display_name": "Python 3",
   "language": "python",
   "name": "python3"
  },
  "language_info": {
   "codemirror_mode": {
    "name": "ipython",
    "version": 3
   },
   "file_extension": ".py",
   "mimetype": "text/x-python",
   "name": "python",
   "nbconvert_exporter": "python",
   "pygments_lexer": "ipython3",
   "version": "3.7.4"
  }
 },
 "nbformat": 4,
 "nbformat_minor": 2
}
